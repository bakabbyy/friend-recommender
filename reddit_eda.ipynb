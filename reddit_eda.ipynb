{
 "cells": [
  {
   "cell_type": "code",
   "execution_count": 1,
   "metadata": {
    "pycharm": {
     "is_executing": false
    }
   },
   "outputs": [],
   "source": [
    "import pandas as pd\n",
    "import praw"
   ]
  },
  {
   "cell_type": "code",
   "execution_count": 2,
   "outputs": [],
   "source": [
    "reddit = praw.Reddit(client_id='bBZ5C4D5Palxyg', client_secret='LOab27PZ5UqEB8Ju-fZ3nRQvU00',\n",
    "                     user_agent='bakaaaaaaaaa')\n"
   ],
   "metadata": {
    "collapsed": false,
    "pycharm": {
     "name": "#%%\n",
     "is_executing": false
    }
   }
  },
  {
   "cell_type": "code",
   "execution_count": 19,
   "outputs": [],
   "source": [
    "hot_posts = reddit.subreddit('MachineLearning').hot(limit=20)"
   ],
   "metadata": {
    "collapsed": false,
    "pycharm": {
     "name": "#%%\n",
     "is_executing": false
    }
   }
  },
  {
   "cell_type": "code",
   "execution_count": 20,
   "outputs": [
    {
     "name": "stdout",
     "text": [
      "[D] Machine Learning - WAYR (What Are You Reading) - Week 82\n",
      "[D] Weak Learners that aren't decision stumps/trees?\n",
      "[R] Bayesian Neural Networks With Maximum Mean Discrepancy Regularization\n",
      "[D] COVID-19/Coronavirus challenge - Help scientists design antiviral proteins by playing a puzzle on Fold.It\n",
      "[P] My new deep learning book + github repo\n",
      "[D] Parameter count in pytorch resnet50 implementation does not coincide with what the original paper suggests?\n",
      "Theoretical Understanding of Batch Normalization: A Markov-chain Perspective\n",
      "[N] Official information of Coronavirus disease 2019 (COVID-19) in South Korea is available in Kaggle.\n",
      "[D] Plug and play pre-trained models for latent space embedding?\n",
      "[D] The Illustrated SimCLR Framework (Blog)\n",
      "[R] Kernel Matrix from Penultimate Layer of a CNN\n",
      "[Discussion] Creating virtual voices - best approaches\n",
      "[P] Reminder for the FDA Open Data Adverse Event Anomalies Challenge\n",
      "[P] PyTorch MetaLearning Library : learn2learn v0.1: faster tasks, new datasets, and extensive benchmarks.\n",
      "[R] Deep Randomized Neural Networks\n",
      "[D] Ways to significantly increase inference speed for deployment?\n",
      "[P] Dashboards and periodic scheduling for Jupyter Notebooks\n",
      "[D] Is there a dataset that models relation links among diseases and proteins, drugs, etc.?\n",
      "[R] We released our (PEM) Fuel Cell Dataset\n",
      "[D] Why BatchNorm in UNet ?\n"
     ],
     "output_type": "stream"
    }
   ],
   "source": [
    "for post in hot_posts:\n",
    "    print(post.title)"
   ],
   "metadata": {
    "collapsed": false,
    "pycharm": {
     "name": "#%%\n",
     "is_executing": false
    }
   }
  },
  {
   "cell_type": "code",
   "execution_count": null,
   "outputs": [],
   "source": [
    "\n"
   ],
   "metadata": {
    "collapsed": false,
    "pycharm": {
     "name": "#%%\n"
    }
   }
  }
 ],
 "metadata": {
  "kernelspec": {
   "display_name": "Python 3.7.4 64-bit ('metis': conda)",
   "language": "python",
   "name": "python37464bitmetisconda6ec158bba95c452caae9ce18793916df"
  },
  "language_info": {
   "codemirror_mode": {
    "name": "ipython",
    "version": 3
   },
   "file_extension": ".py",
   "mimetype": "text/x-python",
   "name": "python",
   "nbconvert_exporter": "python",
   "pygments_lexer": "ipython3",
   "version": "3.7.4"
  },
  "pycharm": {
   "stem_cell": {
    "cell_type": "raw",
    "source": [],
    "metadata": {
     "collapsed": false
    }
   }
  }
 },
 "nbformat": 4,
 "nbformat_minor": 4
}