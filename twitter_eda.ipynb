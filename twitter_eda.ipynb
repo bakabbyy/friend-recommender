{
 "cells": [
  {
   "cell_type": "code",
   "execution_count": 1,
   "metadata": {
    "collapsed": true,
    "pycharm": {
     "is_executing": false
    }
   },
   "outputs": [],
   "source": [
    "import json\n",
    "import tweepy\n",
    "from twitter_creds import *\n",
    "\n",
    "# pass credentials to authorize Twitter app\n",
    "auth = tweepy.OAuthHandler(consumer_key, consumer_secret)\n",
    "auth.set_access_token(access_token, access_secret)\n",
    "api = tweepy.API(auth,\n",
    "                 parser=tweepy.parsers.JSONParser(),\n",
    "                 wait_on_rate_limit=True,\n",
    "                 wait_on_rate_limit_notify=True)"
   ]
  },
  {
   "cell_type": "code",
   "execution_count": 2,
   "outputs": [
    {
     "name": "stdout",
     "text": [
      "getting tweets before 996060287794008064s\n",
      "...127s tweets downloaded so far\n"
     ],
     "output_type": "stream"
    }
   ],
   "source": [
    "all_tweets = []\n",
    "\n",
    "# make initial request for most recent tweets\n",
    "new_tweets = api.user_timeline(screen_name='baka_brooks', count=200)\n",
    "\n",
    "# save most recent tweets\n",
    "all_tweets.extend(new_tweets)\n",
    "\n",
    "# save the id of the oldest tweet less one\n",
    "oldest = all_tweets[-1]['id'] - 1\n",
    "\n",
    "# continue where from the last id until there are no tweets left to collect\n",
    "while len(new_tweets) > 0:\n",
    "    print(f'getting tweets before {oldest}s')\n",
    "\n",
    "    # all subsequent requests use the max_id param to prevent duplicates\n",
    "    new_tweets = api.user_timeline(screen_name='baka_brooks', count=200, max_id=oldest)\n",
    "\n",
    "    all_tweets.extend(new_tweets)\n",
    "\n",
    "    oldest = all_tweets[-1]['id'] - 1\n",
    "\n",
    "    print(f'...{len(all_tweets)}s tweets downloaded so far')"
   ],
   "metadata": {
    "collapsed": false,
    "pycharm": {
     "name": "#%%\n",
     "is_executing": false
    }
   }
  },
  {
   "cell_type": "code",
   "execution_count": 3,
   "outputs": [
    {
     "data": {
      "text/plain": "127"
     },
     "metadata": {},
     "output_type": "execute_result",
     "execution_count": 3
    }
   ],
   "source": [
    "len(all_tweets)"
   ],
   "metadata": {
    "collapsed": false,
    "pycharm": {
     "name": "#%%\n",
     "is_executing": false
    }
   }
  },
  {
   "cell_type": "code",
   "execution_count": 3,
   "outputs": [],
   "source": [
    "\n"
   ],
   "metadata": {
    "collapsed": false,
    "pycharm": {
     "name": "#%%\n",
     "is_executing": false
    }
   }
  }
 ],
 "metadata": {
  "kernelspec": {
   "name": "conda-env-metis-py",
   "language": "python",
   "display_name": "Python [conda env:metis] *"
  },
  "language_info": {
   "codemirror_mode": {
    "name": "ipython",
    "version": 2
   },
   "file_extension": ".py",
   "mimetype": "text/x-python",
   "name": "python",
   "nbconvert_exporter": "python",
   "pygments_lexer": "ipython2",
   "version": "2.7.6"
  },
  "pycharm": {
   "stem_cell": {
    "cell_type": "raw",
    "source": [],
    "metadata": {
     "collapsed": false
    }
   }
  }
 },
 "nbformat": 4,
 "nbformat_minor": 0
}