{
 "cells": [
  {
   "cell_type": "code",
   "execution_count": 1,
   "metadata": {
    "tags": []
   },
   "outputs": [],
   "source": [
    "import pandas as pd\n",
    "import json\n",
    "import pickle\n",
    "import re\n",
    "import string\n",
    "\n",
    "from nltk.corpus import stopwords       \n",
    "from nltk.stem import WordNetLemmatizer \n",
    "from sklearn.feature_extraction.text import CountVectorizer\n",
    "from sklearn.feature_extraction.text import TfidfVectorizer"
   ]
  },
  {
   "cell_type": "markdown",
   "metadata": {
    "tags": []
   },
   "source": [
    "## Load data into dataframes"
   ]
  },
  {
   "cell_type": "code",
   "execution_count": 2,
   "metadata": {
    "tags": []
   },
   "outputs": [],
   "source": [
    "def load_tweets(type_of_data):\n",
    "    \"\"\"\n",
    "    Read in a JSON file based on whether it is from the users' timeline, favorites, or\n",
    "    is profile information (timelines, favorites, or profiles).\n",
    "    ---\n",
    "    :param type_of_data: String representing the type of data to load.\n",
    "    :return: Pandas dataframe of the data that was pulled from the Twitter API.\n",
    "    \"\"\"\n",
    "\n",
    "    nums = [20, 100, 234]\n",
    "    dataframes = []\n",
    "\n",
    "    for file in [f'{type_of_data}_' + str(num) + '.json' for num in nums]:\n",
    "        # load in the file as a list of dictionaries\n",
    "        with open(file) as f:\n",
    "            data = json.load(f)\n",
    "\n",
    "        # flatten the data\n",
    "        flat_data = [item for sublist in data for item in sublist]\n",
    "\n",
    "        # create dataframe from flattened list\n",
    "        df = pd.DataFrame(flat_data)\n",
    "\n",
    "        # append to list\n",
    "        dataframes.append(df)\n",
    "        \n",
    "    full_df = pd.concat(dataframes)\n",
    "    full_df.reset_index(inplace=True, drop=True)\n",
    "\n",
    "    return full_df"
   ]
  },
  {
   "cell_type": "code",
   "execution_count": 3,
   "metadata": {
    "tags": []
   },
   "outputs": [
    {
     "ename": "FileNotFoundError",
     "evalue": "[Errno 2] No such file or directory: 'timelines_20.json'",
     "output_type": "error",
     "traceback": [
      "\u001b[0;31m---------------------------------------------------------------------------\u001b[0m",
      "\u001b[0;31mFileNotFoundError\u001b[0m                         Traceback (most recent call last)",
      "\u001b[0;32m<ipython-input-3-dc6d0bc9d252>\u001b[0m in \u001b[0;36m<module>\u001b[0;34m\u001b[0m\n\u001b[0;32m----> 1\u001b[0;31m \u001b[0mtimelines\u001b[0m \u001b[0;34m=\u001b[0m \u001b[0mload_tweets\u001b[0m\u001b[0;34m(\u001b[0m\u001b[0;34m'timelines'\u001b[0m\u001b[0;34m)\u001b[0m\u001b[0;34m\u001b[0m\u001b[0;34m\u001b[0m\u001b[0m\n\u001b[0m\u001b[1;32m      2\u001b[0m \u001b[0mfavorites\u001b[0m \u001b[0;34m=\u001b[0m \u001b[0mload_tweets\u001b[0m\u001b[0;34m(\u001b[0m\u001b[0;34m'favorites'\u001b[0m\u001b[0;34m)\u001b[0m\u001b[0;34m\u001b[0m\u001b[0;34m\u001b[0m\u001b[0m\n",
      "\u001b[0;32m<ipython-input-2-5aab3de3277d>\u001b[0m in \u001b[0;36mload_tweets\u001b[0;34m(type_of_data)\u001b[0m\n\u001b[1;32m     13\u001b[0m     \u001b[0;32mfor\u001b[0m \u001b[0mfile\u001b[0m \u001b[0;32min\u001b[0m \u001b[0;34m[\u001b[0m\u001b[0;34mf'{type_of_data}_'\u001b[0m \u001b[0;34m+\u001b[0m \u001b[0mstr\u001b[0m\u001b[0;34m(\u001b[0m\u001b[0mnum\u001b[0m\u001b[0;34m)\u001b[0m \u001b[0;34m+\u001b[0m \u001b[0;34m'.json'\u001b[0m \u001b[0;32mfor\u001b[0m \u001b[0mnum\u001b[0m \u001b[0;32min\u001b[0m \u001b[0mnums\u001b[0m\u001b[0;34m]\u001b[0m\u001b[0;34m:\u001b[0m\u001b[0;34m\u001b[0m\u001b[0;34m\u001b[0m\u001b[0m\n\u001b[1;32m     14\u001b[0m         \u001b[0;31m# load in the file as a list of dictionaries\u001b[0m\u001b[0;34m\u001b[0m\u001b[0;34m\u001b[0m\u001b[0;34m\u001b[0m\u001b[0m\n\u001b[0;32m---> 15\u001b[0;31m         \u001b[0;32mwith\u001b[0m \u001b[0mopen\u001b[0m\u001b[0;34m(\u001b[0m\u001b[0mfile\u001b[0m\u001b[0;34m)\u001b[0m \u001b[0;32mas\u001b[0m \u001b[0mf\u001b[0m\u001b[0;34m:\u001b[0m\u001b[0;34m\u001b[0m\u001b[0;34m\u001b[0m\u001b[0m\n\u001b[0m\u001b[1;32m     16\u001b[0m             \u001b[0mdata\u001b[0m \u001b[0;34m=\u001b[0m \u001b[0mjson\u001b[0m\u001b[0;34m.\u001b[0m\u001b[0mload\u001b[0m\u001b[0;34m(\u001b[0m\u001b[0mf\u001b[0m\u001b[0;34m)\u001b[0m\u001b[0;34m\u001b[0m\u001b[0;34m\u001b[0m\u001b[0m\n\u001b[1;32m     17\u001b[0m \u001b[0;34m\u001b[0m\u001b[0m\n",
      "\u001b[0;31mFileNotFoundError\u001b[0m: [Errno 2] No such file or directory: 'timelines_20.json'"
     ]
    }
   ],
   "source": [
    "timelines = load_tweets('timelines')\n",
    "favorites = load_tweets('favorites')"
   ]
  },
  {
   "cell_type": "code",
   "execution_count": null,
   "metadata": {
    "tags": []
   },
   "outputs": [],
   "source": [
    "def load_profiles(type_of_data):\n",
    "    \"\"\"\n",
    "    Read in a JSON file based on whether it is from the users' timeline, favorites, or\n",
    "    is profile information (timelines, favorites, or profiles).\n",
    "    ---\n",
    "    :param type_of_data: String representing the type of data to load.\n",
    "    :return: Pandas dataframe of the data that was pulled from the Twitter API.\n",
    "    \"\"\"\n",
    "\n",
    "    nums = [20, 100, 234]\n",
    "    dataframes = []\n",
    "\n",
    "    for file_name in [f'{type_of_data}_' + str(num) + '.json' for num in nums]:\n",
    "        # create dataframe from json file\n",
    "        df = pd.read_json(file_name)\n",
    "\n",
    "        # append to list\n",
    "        dataframes.append(df)\n",
    "        \n",
    "    full_df = pd.concat(dataframes)\n",
    "    full_df.reset_index(inplace=True, drop=True)\n",
    "\n",
    "    return full_df"
   ]
  },
  {
   "cell_type": "code",
   "execution_count": null,
   "metadata": {
    "tags": []
   },
   "outputs": [],
   "source": [
    "profiles = load_profiles('profiles')"
   ]
  },
  {
   "cell_type": "code",
   "execution_count": null,
   "metadata": {
    "tags": []
   },
   "outputs": [],
   "source": [
    "# export original dataframes to pickle files\n",
    "timelines.to_pickle('timelines.pkl')\n",
    "favorites.to_pickle('favorites.pkl')\n",
    "profiles.to_pickle('profiles.pkl')"
   ]
  },
  {
   "cell_type": "markdown",
   "metadata": {
    "tags": []
   },
   "source": [
    "## Clean text for both timelines and favorites"
   ]
  },
  {
   "cell_type": "code",
   "execution_count": null,
   "metadata": {
    "tags": []
   },
   "outputs": [],
   "source": [
    "favorites.head()"
   ]
  },
  {
   "cell_type": "code",
   "execution_count": null,
   "metadata": {
    "tags": []
   },
   "outputs": [],
   "source": [
    "def clean_text_one(docs):\n",
    "    \"\"\"\n",
    "    Cleans tweet text so that it is in a form suitable for topic modeling.\n",
    "    ---\n",
    "    :param docs: Series of documents to be processed. \n",
    "    :return: Series of processed texts.\n",
    "    \"\"\"\n",
    "\n",
    "    # remove URLs and hyperlinks\n",
    "    text_nourl = lambda x: re.sub('http[s]?://(?:[a-zA-Z]|[0-9]|[$-_@.&+#]|[!*\\(\\),]|'\\\n",
    "                       '(?:%[0-9a-fA-F][0-9a-fA-F]))+', '', x)\n",
    "    \n",
    "    # remove @ names\n",
    "    text_noname = lambda x: re.sub('(@[A-Za-z0-9_]+)', '', x)\n",
    "    \n",
    "    # remove hashtags\n",
    "    text_nohash = lambda x: re.sub('(#[A-Za-z0-9_]+)', '', x)\n",
    "    \n",
    "    # remove numbers\n",
    "    text_nonum = lambda x: re.sub(r'\\d+', '', x)\n",
    "    \n",
    "    # remove the new line character\n",
    "    text_nonewline = lambda x: re.sub('\\n', '', x)\n",
    "    \n",
    "    # remove punctuation\n",
    "    text_nopunct = lambda x: ''.join([char for char in x if char not in string.punctuation])\n",
    "    \n",
    "    # convert all letters to lowercase\n",
    "    text_lower = lambda x: x.lower()\n",
    "    \n",
    "    # substitute multiple spaces with single space\n",
    "    text_nospaces = lambda x: re.sub(r'\\s+', ' ', x, flags=re.I)\n",
    "    \n",
    "    # remove all single characters\n",
    "    text_single = lambda x: re.sub(r'\\s+[a-zA-Z]\\s+', ' ', x)\n",
    "\n",
    "    # apply all cleaning functions to input text\n",
    "    for clean_func in [text_nourl, text_noname, text_nohash, text_nonum, text_nonewline,\\\n",
    "        text_nopunct, text_lower, text_nospaces, text_single]:\n",
    "        docs = docs.map(clean_func)\n",
    "\n",
    "    return docs"
   ]
  },
  {
   "cell_type": "code",
   "execution_count": null,
   "metadata": {
    "tags": []
   },
   "outputs": [],
   "source": [
    "def clean_text_two(docs):\n",
    "    \"\"\"\n",
    "    Cleans tweet text so that it is in a form suitable for topic modeling.\n",
    "    ---\n",
    "    :param docs: Series of documents to be processed. \n",
    "    :return: Series of processed texts.\n",
    "    \"\"\"\n",
    "\n",
    "    wordNetLemmatizer = WordNetLemmatizer()\n",
    "\n",
    "    lemmatized_tweets = []\n",
    "    for text in docs:\n",
    "        try:\n",
    "            lemmatized_tweets.append(wordNetLemmatizer.lemmatize(text))\n",
    "        except:\n",
    "            lemmatized_tweets.append(text)\n",
    "\n",
    "    return lemmatized_tweets"
   ]
  },
  {
   "cell_type": "code",
   "execution_count": null,
   "metadata": {
    "tags": []
   },
   "outputs": [],
   "source": [
    "# clean the favorited tweets using first function\n",
    "favorites_cleaned_text = clean_text_one(favorites.text)\n",
    "favorites_cleaned_text"
   ]
  },
  {
   "cell_type": "code",
   "execution_count": null,
   "metadata": {
    "tags": []
   },
   "outputs": [],
   "source": [
    "# lemmatize the favorited tweets with the second function\n",
    "favorites_cleaned_text = clean_text_two(favorites_cleaned_text)\n",
    "favorites_cleaned_text"
   ]
  },
  {
   "cell_type": "code",
   "execution_count": null,
   "metadata": {
    "tags": []
   },
   "outputs": [],
   "source": [
    "# clean the timeline tweets using first function\n",
    "timelines_cleaned_text = clean_text_one(timelines.text)\n",
    "timelines_cleaned_text"
   ]
  },
  {
   "cell_type": "code",
   "execution_count": null,
   "metadata": {
    "tags": []
   },
   "outputs": [],
   "source": [
    "timelines_cleaned_text = clean_text_two(timelines_cleaned_text)\n",
    "timelines_cleaned_text"
   ]
  },
  {
   "cell_type": "markdown",
   "metadata": {
    "tags": []
   },
   "source": [
    "## Add texts back to dataframes and export for modeling"
   ]
  },
  {
   "cell_type": "code",
   "execution_count": null,
   "metadata": {
    "tags": []
   },
   "outputs": [],
   "source": [
    "timelines_cleaned = timelines.copy()\n",
    "timelines_cleaned['text'] = timelines_cleaned_text"
   ]
  },
  {
   "cell_type": "code",
   "execution_count": null,
   "metadata": {
    "tags": []
   },
   "outputs": [],
   "source": [
    "favorites_cleaned = favorites.copy()\n",
    "favorites_cleaned['text'] = favorites_cleaned_text"
   ]
  },
  {
   "cell_type": "code",
   "execution_count": null,
   "metadata": {
    "tags": []
   },
   "outputs": [],
   "source": [
    "profiles_cleaned = profiles.copy()"
   ]
  },
  {
   "cell_type": "code",
   "execution_count": null,
   "metadata": {
    "tags": []
   },
   "outputs": [],
   "source": [
    "# export cleaned dataframes\n",
    "favorites_cleaned.to_pickle('favorites_cleaned_lemma.pkl')\n",
    "timelines_cleaned.to_pickle('timelines_cleaned_lemma.pkl')\n",
    "profiles_cleaned.to_pickle('profiles_cleaned_lemma.pkl')"
   ]
  }
 ],
 "metadata": {
  "kernelspec": {
   "display_name": "Python 3",
   "language": "python",
   "name": "python3"
  },
  "language_info": {
   "codemirror_mode": {
    "name": "ipython",
    "version": 3
   },
   "file_extension": ".py",
   "mimetype": "text/x-python",
   "name": "python",
   "nbconvert_exporter": "python",
   "pygments_lexer": "ipython3",
   "version": "3.8.8"
  }
 },
 "nbformat": 4,
 "nbformat_minor": 4
}
